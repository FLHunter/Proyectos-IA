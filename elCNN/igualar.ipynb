{
 "cells": [
  {
   "cell_type": "code",
   "execution_count": 7,
   "id": "5bf67abc-99f8-4394-acc8-7b8f08bcd625",
   "metadata": {},
   "outputs": [
    {
     "name": "stdout",
     "output_type": "stream",
     "text": [
      "Images saved to 'Girasoles'\n"
     ]
    }
   ],
   "source": [
    "from PIL import Image\n",
    "import os\n",
    "\n",
    "input_dir = 'Girasoles'\n",
    "output_dir = 'Girasoles'\n",
    "\n",
    "os.makedirs(output_dir, exist_ok=True)\n",
    "target_size = (128, 128)\n",
    "\n",
    "input_files = os.listdir(input_dir)\n",
    "\n",
    "for input_file in input_files:\n",
    "    input_path = os.path.join(input_dir, input_file)\n",
    "    output_path = os.path.join(output_dir, input_file)\n",
    "    \n",
    "    img = Image.open(input_path)\n",
    "    \n",
    "    width, height = img.size\n",
    "    size = min(width, height)\n",
    "    \n",
    "    # Calculate the coordinates for the square crop\n",
    "    left = (width - size) / 2\n",
    "    upper = (height - size) / 2\n",
    "    right = (width + size) / 2\n",
    "    lower = (height + size) / 2\n",
    "    \n",
    "    square_img = img.crop((left, upper, right, lower))\n",
    "    \n",
    "    # Resize the image to the target size while maintaining aspect ratio\n",
    "    square_img.thumbnail(target_size)\n",
    "    \n",
    "    # Create a new square image with a white background\n",
    "    small_img = Image.new('RGB', target_size, (255, 255, 255))\n",
    "    \n",
    "    # Paste the resized image onto the square canvas\n",
    "    offset = ((target_size[0] - square_img.width) // 2, (target_size[1] - square_img.height) // 2)\n",
    "    small_img.paste(square_img, offset)\n",
    "    \n",
    "    small_img.save(output_path)\n",
    "\n",
    "print(f\"Images saved to '{output_dir}'\")"
   ]
  }
 ],
 "metadata": {
  "kernelspec": {
   "display_name": "Python 3 (ipykernel)",
   "language": "python",
   "name": "python3"
  },
  "language_info": {
   "codemirror_mode": {
    "name": "ipython",
    "version": 3
   },
   "file_extension": ".py",
   "mimetype": "text/x-python",
   "name": "python",
   "nbconvert_exporter": "python",
   "pygments_lexer": "ipython3",
   "version": "3.11.5"
  }
 },
 "nbformat": 4,
 "nbformat_minor": 5
}

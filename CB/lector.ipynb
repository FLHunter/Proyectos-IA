{
 "cells": [
  {
   "cell_type": "code",
   "execution_count": 7,
   "id": "21d4b2f9-a593-416d-9b1b-08cd1a2db45c",
   "metadata": {},
   "outputs": [],
   "source": [
    "import cv2\n",
    "\n",
    "# Cargar la captura de video\n",
    "cap = cv2.VideoCapture(0,cv2.CAP_DSHOW)\n",
    "\n",
    "# Cargar el clasificador haarcascade entrenado\n",
    "clasificador = cv2.CascadeClassifier('cascade.xml')\n",
    "\n",
    "while True:\n",
    "    \n",
    "    # Capturar la imagen\n",
    "    ret,frame = cap.read()\n",
    "    gray = cv2.cvtColor(frame, cv2.COLOR_BGR2GRAY)\n",
    "    \n",
    "    # Obtener las detecciones que se realizan\n",
    "    wed = clasificador.detectMultiScale(gray,\n",
    "    scaleFactor = 1.055,\n",
    "    minNeighbors = 101,\n",
    "    minSize = (70,78))\n",
    "    \n",
    "    # Recorrer todas las detecciones\n",
    "    for (x,y,w,h) in wed:\n",
    "        # Colocar un rectángulo\n",
    "        cv2.rectangle(frame, (x,y),(x+w,y+h),(25,0,255),4)\n",
    "        # Y el texto\n",
    "        cv2.putText(frame,'Cubrebocas',(x,y-10),2,0.7,(0,255,0),2,cv2.LINE_AA)\n",
    "\n",
    "    cv2.imshow('Imagen',frame)\n",
    "    \n",
    "    # Salir con la tecla ESPACIO\n",
    "    if cv2.waitKey(1) == 32:\n",
    "        break\n",
    "cap.release()\n",
    "cv2.destroyAllWindows()"
   ]
  },
  {
   "cell_type": "code",
   "execution_count": null,
   "id": "5c164b0a-0d34-4bb4-bfe8-56cf2536882a",
   "metadata": {},
   "outputs": [],
   "source": []
  }
 ],
 "metadata": {
  "kernelspec": {
   "display_name": "Python 3 (ipykernel)",
   "language": "python",
   "name": "python3"
  },
  "language_info": {
   "codemirror_mode": {
    "name": "ipython",
    "version": 3
   },
   "file_extension": ".py",
   "mimetype": "text/x-python",
   "name": "python",
   "nbconvert_exporter": "python",
   "pygments_lexer": "ipython3",
   "version": "3.11.5"
  }
 },
 "nbformat": 4,
 "nbformat_minor": 5
}
